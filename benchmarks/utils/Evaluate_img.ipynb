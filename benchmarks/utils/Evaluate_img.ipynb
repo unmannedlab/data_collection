{
 "cells": [
  {
   "cell_type": "code",
   "execution_count": null,
   "metadata": {},
   "outputs": [],
   "source": [
    "import numpy as np\n",
    "from PIL import Image\n",
    "import seaborn as sns"
   ]
  },
  {
   "cell_type": "code",
   "execution_count": null,
   "metadata": {},
   "outputs": [],
   "source": [
    "label_mapping = {0: 0,\n",
    "                 1: 0,\n",
    "                 3: 1,\n",
    "                 4: 2,\n",
    "                 5: 3,\n",
    "                 6: 4,\n",
    "                 7: 5,\n",
    "                 8: 6,\n",
    "                 9: 7,\n",
    "                 10: 8,\n",
    "                 12: 9,\n",
    "                 15: 10,\n",
    "                 17: 11,\n",
    "                 18: 12,\n",
    "                 19: 13,\n",
    "                 23: 14,\n",
    "                 27: 15,\n",
    "                 29: 1,\n",
    "                 30: 1,\n",
    "                 31: 16,\n",
    "                 32: 4,\n",
    "                 33: 17,\n",
    "                 34: 18}"
   ]
  },
  {
   "cell_type": "code",
   "execution_count": null,
   "metadata": {},
   "outputs": [],
   "source": [
    "classname_list = [\"void\", \"grass\", \"tree\", \"pole\", \"water\", \"sky\", \"vehicle\", \"object\", \"asphalt\",\n",
    "                  \"building\", \"log\", \"person\", \"fence\", \"bush\", \"concrete\", \"barrier\", \"puddle\", \"mud\", \"rubble\"]"
   ]
  },
  {
   "cell_type": "code",
   "execution_count": null,
   "metadata": {},
   "outputs": [],
   "source": [
    "def get_confusion_matrix(label, pred, size, num_class, ignore=-1):\n",
    "    \"\"\"\n",
    "    Calcute the confusion matrix by given label and pred\n",
    "    \"\"\"\n",
    "    seg_pred = pred\n",
    "    seg_gt = label\n",
    "    ignore_index = seg_gt != ignore\n",
    "    seg_gt = seg_gt[ignore_index]\n",
    "    seg_pred = seg_pred[ignore_index]\n",
    "\n",
    "    index = (seg_gt * num_class + seg_pred).astype('int32')\n",
    "    label_count = np.bincount(index)\n",
    "    confusion_matrix = np.zeros((num_class, num_class))\n",
    "\n",
    "    for i_label in range(num_class):\n",
    "        for i_pred in range(num_class):\n",
    "            cur_index = i_label * num_class + i_pred\n",
    "            if cur_index < len(label_count):\n",
    "                confusion_matrix[i_label,\n",
    "                                 i_pred] = label_count[cur_index]\n",
    "    return confusion_matrix"
   ]
  },
  {
   "cell_type": "code",
   "execution_count": null,
   "metadata": {},
   "outputs": [],
   "source": [
    "def convert_label(label, label_mapping, inverse=False):\n",
    "    temp = label.copy()\n",
    "    if inverse:\n",
    "        for v, k in label_mapping.items():\n",
    "            label[temp == k] = v\n",
    "    else:\n",
    "        for k, v in label_mapping.items():\n",
    "            label[temp == k] = v\n",
    "    return label"
   ]
  },
  {
   "cell_type": "code",
   "execution_count": null,
   "metadata": {},
   "outputs": [],
   "source": [
    "def plot_confusion_matrix(cm, classname_list):\n",
    "    cm_sum = cm.sum(axis=1)\n",
    "    cm_sum[cm_sum == 0] = 0.1\n",
    "\n",
    "    cmn = cm/cm_sum[:, np.newaxis]\n",
    "    df_cm = pd.DataFrame(cmn, index=classname_list,\n",
    "                         columns=classname_list)\n",
    "    fig = plt.figure(figsize=(20, 14))\n",
    "    sn.heatmap(df_cm, annot=True, fmt='.2f')\n",
    "    plt.ylabel('Actual')\n",
    "    plt.xlabel('Predicted')\n",
    "    plt.show()"
   ]
  },
  {
   "cell_type": "code",
   "execution_count": null,
   "metadata": {},
   "outputs": [],
   "source": [
    "root = \"\"\n",
    "list_path = \"test.lst\"\n",
    "num_class = 19\n",
    "img_list = [line.strip().split()[1] for line in open(root+list_path)]\n",
    "confusion_matrix = np.zeros((num_class,num_class))\n",
    "for img_path in img_list:\n",
    "    label_path = os.path.join(root,\"rellis\",img_path)\n",
    "    pred_path = os.path.join(root,\"hrnet\",img_path)\n",
    "    label = Image.open(label_path)\n",
    "    label = np.array(label)[:,:,0]\n",
    "    label = convert_label(label, label_mapping)\n",
    "    pred = Image.open(pred_path)\n",
    "    pred = np.array(pred)[:,:,0]\n",
    "    confusion_maxtrix += get_confusion_matrix(label,pred,label.shape,num_class,0)\n",
    "    \n",
    "pos = confusion_matrix.sum(1)\n",
    "res = confusion_matrix.sum(0)\n",
    "tp = np.diag(confusion_matrix)\n",
    "IoU_array = (tp / np.maximum(1.0, pos + res - tp))\n",
    "mean_IoU = IoU_array.mean()    \n",
    "print(mean_IoU)"
   ]
  }
 ],
 "metadata": {
  "kernelspec": {
   "display_name": "Python 3",
   "language": "python",
   "name": "python3"
  },
  "language_info": {
   "codemirror_mode": {
    "name": "ipython",
    "version": 3
   },
   "file_extension": ".py",
   "mimetype": "text/x-python",
   "name": "python",
   "nbconvert_exporter": "python",
   "pygments_lexer": "ipython3",
   "version": "3.6.10"
  }
 },
 "nbformat": 4,
 "nbformat_minor": 4
}
