{
 "cells": [
  {
   "cell_type": "code",
   "execution_count": 111,
   "metadata": {},
   "outputs": [],
   "source": [
    "import numpy as np\n",
    "from PIL import Image\n",
    "import seaborn as sn\n",
    "from skimage.transform import resize\n",
    "import os\n",
    "import pandas as pd\n",
    "import matplotlib.pyplot as plt\n",
    "import matplotlib"
   ]
  },
  {
   "cell_type": "code",
   "execution_count": 112,
   "metadata": {},
   "outputs": [],
   "source": [
    "label_mapping = {0: 0,\n",
    "                 1: 0,\n",
    "                 3: 1,\n",
    "                 4: 2,\n",
    "                 5: 3,\n",
    "                 6: 4,\n",
    "                 7: 5,\n",
    "                 8: 6,\n",
    "                 9: 7,\n",
    "                 10: 8,\n",
    "                 12: 9,\n",
    "                 15: 10,\n",
    "                 17: 11,\n",
    "                 18: 12,\n",
    "                 19: 13,\n",
    "                 23: 14,\n",
    "                 27: 15,\n",
    "                 29: 1,\n",
    "                 30: 1,\n",
    "                 31: 16,\n",
    "                 32: 4,\n",
    "                 33: 17,\n",
    "                 34: 18}"
   ]
  },
  {
   "cell_type": "code",
   "execution_count": 113,
   "metadata": {},
   "outputs": [],
   "source": [
    "label_mapping = {0: 0,\n",
    "                 1: 0,\n",
    "                 3: 1,\n",
    "                 4: 2,\n",
    "                 5: 3,\n",
    "                 6: 4,\n",
    "                 7: 5,\n",
    "                 8: 6,\n",
    "                 9: 7,\n",
    "                 10: 8,\n",
    "                 12: 9,\n",
    "                 15: 10,\n",
    "                 17: 11,\n",
    "                 18: 12,\n",
    "                 19: 13,\n",
    "                 23: 14,\n",
    "                 27: 15,\n",
    "                 31: 16,\n",
    "                 33: 17,\n",
    "                 34: 18}"
   ]
  },
  {
   "cell_type": "code",
   "execution_count": 114,
   "metadata": {},
   "outputs": [],
   "source": [
    "classname_list = [\"void\", \"grass\", \"tree\", \"pole\", \"water\", \"sky\", \"vehicle\", \"object\", \"asphalt\",\n",
    "                  \"building\", \"log\", \"person\", \"fence\", \"bush\", \"concrete\", \"barrier\", \"puddle\", \"mud\", \"rubble\"]"
   ]
  },
  {
   "cell_type": "code",
   "execution_count": 115,
   "metadata": {},
   "outputs": [],
   "source": [
    "new_order = [7,3,4,19,23,33,17,31,34,27,15,18,8,9,5,6,10,12,1,0]"
   ]
  },
  {
   "cell_type": "code",
   "execution_count": 116,
   "metadata": {},
   "outputs": [],
   "source": [
    "label_mapping2 =   {0: 18, #\"void\"\n",
    "  1: 18, #\"dirt\"\n",
    "  3: 1, #\"grass\"\n",
    "  4: 2 ,#\"tree\"\n",
    "  5: 14, #\"pole\"\n",
    "  6: 15, #\"water\"\n",
    "  7: 0, #\"sky\"\n",
    "  8: 12, #\"vehicle\"\n",
    "  9: 13, #\"object\"\n",
    "  10: 16, #\"asphalt\"\n",
    "  12: 17, #\"building\"\n",
    "  15: 10, #\"log\"\n",
    "  17: 6, #\"person\"\n",
    "  18: 11, #\"fence\"\n",
    "  19: 3, #\"bush\"\n",
    "  23: 4, #\"concrete\"\n",
    "  27: 9, #\"barrier\"\n",
    "  31: 7, #\"puddle\"\n",
    "  33: 5, #\"mud\"\n",
    "  34: 8} #\"rubble\"}"
   ]
  },
  {
   "cell_type": "code",
   "execution_count": 117,
   "metadata": {},
   "outputs": [],
   "source": [
    "classname_list = [\"sky\", \"grass\", \"tree\", \"bush\", \"concrete\", \"mud\",\"person\", \"puddle\", \"rubble\", \"barrier\",\n",
    "                  \"log\", \"fence\", \"vehicle\", \"object\", \"pole\", \"water\", \"asphalt\", \"building\",  \"void\"]"
   ]
  },
  {
   "cell_type": "code",
   "execution_count": 118,
   "metadata": {},
   "outputs": [],
   "source": [
    "def get_confusion_matrix(label, pred, size, num_class, ignore=-1):\n",
    "    \"\"\"\n",
    "    Calcute the confusion matrix by given label and pred\n",
    "    \"\"\"\n",
    "    seg_pred = pred.flatten().astype('int32')\n",
    "    seg_gt = label.flatten().astype('int32')\n",
    "    ignore_index = seg_gt != ignore\n",
    "    seg_gt = seg_gt[ignore_index]\n",
    "    seg_pred = seg_pred[ignore_index]\n",
    "    index = (seg_gt * num_class + seg_pred).astype('int32')\n",
    "    label_count = np.bincount(index)\n",
    "    confusion_matrix = np.zeros((num_class, num_class))\n",
    "    for i_label in range(num_class):\n",
    "        for i_pred in range(num_class):\n",
    "            cur_index = i_label * num_class + i_pred\n",
    "            if cur_index < len(label_count):\n",
    "                confusion_matrix[i_label,\n",
    "                                 i_pred] = label_count[cur_index]\n",
    "    \n",
    "    return confusion_matrix"
   ]
  },
  {
   "cell_type": "code",
   "execution_count": 119,
   "metadata": {},
   "outputs": [],
   "source": [
    "def convert_label(label, label_mapping, inverse=False):\n",
    "    temp = label.copy()\n",
    "    if inverse:\n",
    "        for v, k in label_mapping.items():\n",
    "            label[temp == k] = v\n",
    "    else:\n",
    "        for k, v in label_mapping.items():\n",
    "            label[temp == k] = v\n",
    "    return label"
   ]
  },
  {
   "cell_type": "code",
   "execution_count": 120,
   "metadata": {},
   "outputs": [],
   "source": [
    "font = {'family' : 'Times New Roman',\n",
    "        'size'   : 8}\n",
    "\n",
    "matplotlib.rc('font', **font)\n",
    "def plot_confusion_matrix(cm, classname_list,filename):\n",
    "    cm_sum = cm.sum(axis=1)\n",
    "    cm_sum[cm_sum == 0] = 0.1\n",
    "\n",
    "    cmn = cm/cm_sum[:, np.newaxis]\n",
    "    #cmn = cm\n",
    "    df_cm = pd.DataFrame(cmn, index=classname_list,\n",
    "                         columns=classname_list)\n",
    "    fig = plt.figure(figsize=(4, 3.4))\n",
    "    sn.heatmap(df_cm, cmap=\"Blues\", vmin=0, vmax=1)# annot=True,#fmt='.2f',cmap=\"YlGnBu\")\n",
    "    plt.xticks(rotation=90)\n",
    "    plt.yticks(rotation=360)\n",
    "    plt.ylabel('Actual')\n",
    "    plt.xlabel('Predicted')\n",
    "    plt.savefig(filename)\n",
    "    plt.show()"
   ]
  },
  {
   "cell_type": "code",
   "execution_count": 121,
   "metadata": {},
   "outputs": [
    {
     "name": "stdout",
     "output_type": "stream",
     "text": [
      "processing: 0 images\n",
      "mIoU: 0.3054\n",
      "processing: 100 images\n",
      "mIoU: 0.3395\n",
      "processing: 200 images\n",
      "mIoU: 0.3582\n",
      "processing: 300 images\n",
      "mIoU: 0.3595\n",
      "processing: 400 images\n",
      "mIoU: 0.3597\n",
      "processing: 500 images\n",
      "mIoU: 0.3566\n",
      "processing: 600 images\n",
      "mIoU: 0.3746\n",
      "processing: 700 images\n",
      "mIoU: 0.4432\n",
      "processing: 800 images\n",
      "mIoU: 0.4425\n",
      "processing: 900 images\n",
      "mIoU: 0.4443\n",
      "processing: 1000 images\n",
      "mIoU: 0.4533\n",
      "processing: 1100 images\n",
      "mIoU: 0.4599\n",
      "processing: 1200 images\n",
      "mIoU: 0.4865\n",
      "processing: 1300 images\n",
      "mIoU: 0.4953\n",
      "processing: 1400 images\n",
      "mIoU: 0.4931\n",
      "processing: 1500 images\n",
      "mIoU: 0.4905\n",
      "processing: 1600 images\n",
      "mIoU: 0.4877\n"
     ]
    }
   ],
   "source": [
    "root = \"/home/usl/Datasets/\"\n",
    "list_path = \"test.lst\"\n",
    "num_class = 19\n",
    "img_list = [line.strip().split()[1] for line in open(root+\"/rellis/\"+list_path)]\n",
    "confusion_matrix = np.zeros((num_class,num_class)).astype(np.float64)\n",
    "for index, img_path in enumerate(img_list[:]):\n",
    "    label_path = os.path.join(root,\"rellis\",img_path)\n",
    "    pred_path = os.path.join(root,\"hrnet\",img_path)\n",
    "    label = Image.open(label_path)\n",
    "    label = np.array(label)\n",
    "    label = convert_label(label, label_mapping2)\n",
    "    label_shape = label.shape\n",
    "    pred = Image.open(pred_path)\n",
    "    if label_shape[0] != pred.size[0] or label_shape[1] != pred.size[1]:\n",
    "        pred = pred.resize((label_shape[1],label_shape[0]),Image.NEAREST)\n",
    "    pred = np.array(pred)[:,:,0]\n",
    "    pred = convert_label(pred, label_mapping,True)\n",
    "    pred = convert_label(pred, label_mapping2)\n",
    "    confusion_matrix =confusion_matrix + get_confusion_matrix(label,pred,label.shape,num_class,18)\n",
    "    if index % 100 == 0:\n",
    "        print('processing: %d images' % index)\n",
    "        pos = confusion_matrix.sum(1)\n",
    "        res = confusion_matrix.sum(0)\n",
    "        tp = np.diag(confusion_matrix)\n",
    "        IoU_array = (tp / np.maximum(1.0, pos + res - tp))\n",
    "        mean_IoU = IoU_array.mean()\n",
    "        print('mIoU: %.4f' % (mean_IoU))    "
   ]
  },
  {
   "cell_type": "code",
   "execution_count": 122,
   "metadata": {},
   "outputs": [
    {
     "name": "stdout",
     "output_type": "stream",
     "text": [
      "[0.96938115 0.90200604 0.80525071 0.76757941 0.84215983 0.43287632\n",
      " 0.89477057 0.73935476 0.62028268 0.54863872 0.         0.39517992\n",
      " 0.41541659 0.46437056 0.09508234 0.00718181 0.33248209 0.04597741\n",
      " 0.        ] 0.4883153109165228\n",
      " 96.94 & 90.20 & 80.53 & 76.76 & 84.22 & 43.29 & 89.48 & 73.94 & 62.03 & 54.86 & 0.00 & 39.52 & 41.54 & 46.44 & 9.51 & 0.72 & 33.25 & 4.60 & 0.00 &"
     ]
    },
    {
     "data": {
      "image/png": "[encoded data removed]",
      "text/plain": [
       "<Figure size 288x244.8 with 2 Axes>"
      ]
     },
     "metadata": {
      "needs_background": "light"
     },
     "output_type": "display_data"
    }
   ],
   "source": [
    "pos = confusion_matrix.sum(1)\n",
    "res = confusion_matrix.sum(0)\n",
    "tp = np.diag(confusion_matrix)\n",
    "IoU_array = (tp / np.maximum(1.0, pos + res - tp))\n",
    "mean_IoU = IoU_array.mean()    \n",
    "print(IoU_array,mean_IoU)\n",
    "for iou in IoU_array:\n",
    "    iou = iou*100\n",
    "    print(f\" {iou:4.2f} &\",end = '')\n",
    "plot_confusion_matrix(confusion_matrix,classname_list,'hrnet_cm.svg')"
   ]
  },
  {
   "cell_type": "code",
   "execution_count": null,
   "metadata": {},
   "outputs": [],
   "source": []
  },
  {
   "cell_type": "code",
   "execution_count": 123,
   "metadata": {},
   "outputs": [
    {
     "name": "stdout",
     "output_type": "stream",
     "text": [
      "processing: 0 images\n",
      "mIoU: 0.3487\n",
      "processing: 100 images\n",
      "mIoU: 0.3572\n",
      "processing: 200 images\n",
      "mIoU: 0.3729\n",
      "processing: 300 images\n",
      "mIoU: 0.3692\n",
      "processing: 400 images\n",
      "mIoU: 0.3684\n",
      "processing: 500 images\n",
      "mIoU: 0.3659\n",
      "processing: 600 images\n",
      "mIoU: 0.3893\n",
      "processing: 700 images\n",
      "mIoU: 0.4528\n",
      "processing: 800 images\n",
      "mIoU: 0.4405\n",
      "processing: 900 images\n",
      "mIoU: 0.4402\n",
      "processing: 1000 images\n",
      "mIoU: 0.4555\n",
      "processing: 1100 images\n",
      "mIoU: 0.4681\n",
      "processing: 1200 images\n",
      "mIoU: 0.5026\n",
      "processing: 1300 images\n",
      "mIoU: 0.5081\n",
      "processing: 1400 images\n",
      "mIoU: 0.5050\n",
      "processing: 1500 images\n",
      "mIoU: 0.5016\n",
      "processing: 1600 images\n",
      "mIoU: 0.4996\n"
     ]
    }
   ],
   "source": [
    "root = \"/home/usl/Datasets/\"\n",
    "list_path = \"test.lst\"\n",
    "num_class = 19\n",
    "img_list = [line.strip().split()[1] for line in open(root+\"/rellis/\"+list_path)]\n",
    "confusion_matrix = np.zeros((num_class,num_class)).astype(np.float64)\n",
    "for index, img_path in enumerate(img_list[:]):\n",
    "    label_path = os.path.join(root,\"rellis\",img_path)\n",
    "    pred_path = os.path.join(root,\"gscnn\",img_path)\n",
    "    label = Image.open(label_path)\n",
    "    label = np.array(label)\n",
    "    label = convert_label(label, label_mapping2)\n",
    "    label_shape = label.shape\n",
    "    pred = Image.open(pred_path)\n",
    "    if label_shape[0] != pred.size[0] or label_shape[1] != pred.size[1]:\n",
    "        pred = pred.resize((label_shape[1],label_shape[0]),Image.NEAREST)\n",
    "    pred = np.array(pred)[:,:,0]\n",
    "    pred = convert_label(pred, label_mapping,True)\n",
    "    pred = convert_label(pred, label_mapping2)\n",
    "    confusion_matrix =confusion_matrix + get_confusion_matrix(label,pred,label.shape,num_class,18)\n",
    "    if index % 100 == 0:\n",
    "        print('processing: %d images' % index)\n",
    "        pos = confusion_matrix.sum(1)\n",
    "        res = confusion_matrix.sum(0)\n",
    "        tp = np.diag(confusion_matrix)\n",
    "        IoU_array = (tp / np.maximum(1.0, pos + res - tp))\n",
    "        mean_IoU = IoU_array.mean()\n",
    "        print('mIoU: %.4f' % (mean_IoU))    "
   ]
  },
  {
   "cell_type": "code",
   "execution_count": null,
   "metadata": {},
   "outputs": [],
   "source": []
  },
  {
   "cell_type": "code",
   "execution_count": 124,
   "metadata": {},
   "outputs": [
    {
     "name": "stdout",
     "output_type": "stream",
     "text": [
      "[0.97015389 0.84950016 0.78518555 0.70334837 0.83819885 0.45524855\n",
      " 0.90314871 0.7148825  0.66033976 0.5512475  0.02919252 0.41860319\n",
      " 0.46512348 0.54643349 0.0689726  0.0094221  0.44182191 0.11466227\n",
      " 0.        ] 0.5013413361966305\n",
      " 97.02 & 84.95 & 78.52 & 70.33 & 83.82 & 45.52 & 90.31 & 71.49 & 66.03 & 55.12 & 2.92 & 41.86 & 46.51 & 54.64 & 6.90 & 0.94 & 44.18 & 11.47 & 0.00 &"
     ]
    },
    {
     "data": {
      "image/png": "[encoded data removed]",
      "text/plain": [
       "<Figure size 288x244.8 with 2 Axes>"
      ]
     },
     "metadata": {
      "needs_background": "light"
     },
     "output_type": "display_data"
    }
   ],
   "source": [
    "pos = confusion_matrix.sum(1)\n",
    "res = confusion_matrix.sum(0)\n",
    "tp = np.diag(confusion_matrix)\n",
    "IoU_array = (tp / np.maximum(1.0, pos + res - tp))\n",
    "mean_IoU = IoU_array.mean()    \n",
    "print(IoU_array,mean_IoU)\n",
    "for iou in IoU_array:\n",
    "    iou = iou*100\n",
    "    print(f\" {iou:4.2f} &\",end = '')\n",
    "plot_confusion_matrix(confusion_matrix,classname_list,'gscnn_cm.svg')"
   ]
  },
  {
   "cell_type": "code",
   "execution_count": null,
   "metadata": {},
   "outputs": [],
   "source": []
  }
 ],
 "metadata": {
  "kernelspec": {
   "display_name": "Python 3",
   "language": "python",
   "name": "python3"
  },
  "language_info": {
   "codemirror_mode": {
    "name": "ipython",
    "version": 3
   },
   "file_extension": ".py",
   "mimetype": "text/x-python",
   "name": "python",
   "nbconvert_exporter": "python",
   "pygments_lexer": "ipython3",
   "version": "3.6.10"
  }
 },
 "nbformat": 4,
 "nbformat_minor": 4
}
