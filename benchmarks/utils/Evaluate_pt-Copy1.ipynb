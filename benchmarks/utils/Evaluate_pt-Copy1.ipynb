{
 "cells": [
  {
   "cell_type": "code",
   "execution_count": 80,
   "metadata": {},
   "outputs": [],
   "source": [
    "import numpy as np\n",
    "from PIL import Image\n",
    "import seaborn as sn\n",
    "from skimage.transform import resize\n",
    "import os\n",
    "import pandas as pd\n",
    "import matplotlib.pyplot as plt\n",
    "import matplotlib"
   ]
  },
  {
   "cell_type": "code",
   "execution_count": null,
   "metadata": {},
   "outputs": [],
   "source": []
  },
  {
   "cell_type": "code",
   "execution_count": 81,
   "metadata": {},
   "outputs": [],
   "source": [
    "label_mapping =   {0: 0, #\"void\"\n",
    "  1: 0, #\"dirt\"\n",
    "  3: 1, #\"grass\"\n",
    "  4: 2 ,#\"tree\"\n",
    "  5: 3, #\"pole\"\n",
    "  6: 4, #\"water\"\n",
    "  7: 0, #\"sky\"\n",
    "  8: 5, #\"vehicle\"\n",
    "  9: 0, #\"object\"\n",
    "  10: 0, #\"asphalt\"\n",
    "  12: 0, #\"building\"\n",
    "  15: 6, #\"log\"\n",
    "  17: 7, #\"person\"\n",
    "  18: 8, #\"fence\"\n",
    "  19: 9, #\"bush\"\n",
    "  23: 10, #\"concrete\"\n",
    "  27: 11, #\"barrier\"\n",
    "  31: 12, #\"puddle\"\n",
    "  33: 13, #\"mud\"\n",
    "  34: 14} #\"rubble\"}"
   ]
  },
  {
   "cell_type": "code",
   "execution_count": 82,
   "metadata": {},
   "outputs": [],
   "source": [
    "classname_list = [\"void\", \"grass\", \"tree\", \"pole\", \"water\", \"vehicle\",\n",
    "                  \"log\", \"person\", \"fence\", \"bush\", \"concrete\", \"barrier\", \"puddle\", \"mud\", \"rubble\"]"
   ]
  },
  {
   "cell_type": "code",
   "execution_count": 83,
   "metadata": {},
   "outputs": [],
   "source": [
    "new_order = [7,3,4,19,23,33,17,31,34,27,15,18,8,9,5,6,10,12,1,0]"
   ]
  },
  {
   "cell_type": "code",
   "execution_count": 84,
   "metadata": {},
   "outputs": [],
   "source": [
    "classname_list = [\"grass\", \"tree\", \"bush\", \"concrete\", \"mud\", \"person\",\n",
    "                  \"puddle\", \"rubble\", \"barrier\", \"log\", \"fence\", \"vehicle\", \"pole\",\"water\",\"void\"]"
   ]
  },
  {
   "cell_type": "code",
   "execution_count": 85,
   "metadata": {},
   "outputs": [],
   "source": [
    "label_mapping =   {0: 14, #\"void\"\n",
    "  1: 14, #\"dirt\"\n",
    "  3: 0, #\"grass\"\n",
    "  4: 1 ,#\"tree\"\n",
    "  5: 12, #\"pole\"\n",
    "  6: 13, #\"water\"\n",
    "  7: 14, #\"sky\"\n",
    "  8: 11, #\"vehicle\"\n",
    "  9: 14, #\"object\"\n",
    "  10: 14, #\"asphalt\"\n",
    "  12: 14, #\"building\"\n",
    "  15: 9, #\"log\"\n",
    "  17: 5, #\"person\"\n",
    "  18: 10, #\"fence\"\n",
    "  19: 2, #\"bush\"\n",
    "  23: 3, #\"concrete\"\n",
    "  27: 8, #\"barrier\"\n",
    "  31: 6, #\"puddle\"\n",
    "  33: 4, #\"mud\"\n",
    "  34: 7} #\"rubble\"}"
   ]
  },
  {
   "cell_type": "code",
   "execution_count": 86,
   "metadata": {},
   "outputs": [],
   "source": [
    "def get_confusion_matrix(label, pred, size, num_class, ignore=-1):\n",
    "    \"\"\"\n",
    "    Calcute the confusion matrix by given label and pred\n",
    "    \"\"\"\n",
    "    seg_pred = pred.flatten().astype('int32')\n",
    "    seg_gt = label.flatten().astype('int32')\n",
    "    ignore_index = seg_gt != ignore\n",
    "    seg_gt = seg_gt[ignore_index]\n",
    "    seg_pred = seg_pred[ignore_index]\n",
    "    index = (seg_gt * num_class + seg_pred).astype('int32')\n",
    "    label_count = np.bincount(index)\n",
    "    confusion_matrix = np.zeros((num_class, num_class))\n",
    "    for i_label in range(num_class):\n",
    "        for i_pred in range(num_class):\n",
    "            cur_index = i_label * num_class + i_pred\n",
    "            if cur_index < len(label_count):\n",
    "                confusion_matrix[i_label,\n",
    "                                 i_pred] = label_count[cur_index]\n",
    "    \n",
    "    return confusion_matrix"
   ]
  },
  {
   "cell_type": "code",
   "execution_count": 87,
   "metadata": {},
   "outputs": [],
   "source": [
    "def convert_label(label, label_mapping, inverse=False):\n",
    "    temp = label.copy()\n",
    "    if inverse:\n",
    "        for v, k in label_mapping.items():\n",
    "            label[temp == k] = v\n",
    "    else:\n",
    "        for k, v in label_mapping.items():\n",
    "            label[temp == k] = v\n",
    "    return label"
   ]
  },
  {
   "cell_type": "code",
   "execution_count": 88,
   "metadata": {},
   "outputs": [],
   "source": [
    "font = {'family' : 'Times New Roman',\n",
    "        'size'   : 8}\n",
    "\n",
    "matplotlib.rc('font', **font)\n",
    "def plot_confusion_matrix(cm, classname_list,filename):\n",
    "    cm_sum = cm.sum(axis=1)\n",
    "    cm_sum[cm_sum == 0] = 0.1\n",
    "\n",
    "    cmn = cm/cm_sum[:, np.newaxis]\n",
    "    #cmn = cm\n",
    "    df_cm = pd.DataFrame(cmn, index=classname_list,\n",
    "                         columns=classname_list)\n",
    "    fig = plt.figure(figsize=(4, 3.4))\n",
    "    sn.heatmap(df_cm, cmap=\"Blues\", vmin=0, vmax=1)# annot=True,#fmt='.2f',cmap=\"YlGnBu\")\n",
    "    plt.xticks(rotation=90)\n",
    "    plt.yticks(rotation=360)\n",
    "    plt.ylabel('Actual',fontweight='bold')\n",
    "    plt.xlabel('Predicted',fontweight='bold')\n",
    "    plt.savefig(filename)\n",
    "    plt.show()"
   ]
  },
  {
   "cell_type": "code",
   "execution_count": 89,
   "metadata": {
    "scrolled": true
   },
   "outputs": [
    {
     "name": "stdout",
     "output_type": "stream",
     "text": [
      "processing: 0 images\n",
      "mIoU: 0.1812\n",
      "processing: 100 images\n",
      "mIoU: 0.2537\n",
      "processing: 200 images\n",
      "mIoU: 0.2410\n",
      "processing: 300 images\n",
      "mIoU: 0.2618\n",
      "processing: 400 images\n",
      "mIoU: 0.2511\n",
      "processing: 500 images\n",
      "mIoU: 0.2622\n",
      "processing: 600 images\n",
      "mIoU: 0.2680\n",
      "processing: 700 images\n",
      "mIoU: 0.2644\n",
      "processing: 800 images\n",
      "mIoU: 0.2625\n",
      "processing: 900 images\n",
      "mIoU: 0.2615\n",
      "processing: 1000 images\n",
      "mIoU: 0.2572\n",
      "processing: 1100 images\n",
      "mIoU: 0.2543\n",
      "processing: 1200 images\n",
      "mIoU: 0.2534\n",
      "processing: 1300 images\n",
      "mIoU: 0.2646\n",
      "processing: 1400 images\n",
      "mIoU: 0.2787\n",
      "processing: 1500 images\n",
      "mIoU: 0.2732\n",
      "processing: 1600 images\n",
      "mIoU: 0.2765\n",
      "processing: 1700 images\n",
      "mIoU: 0.2945\n",
      "processing: 1800 images\n",
      "mIoU: 0.3199\n",
      "processing: 1900 images\n",
      "mIoU: 0.3170\n",
      "processing: 2000 images\n",
      "mIoU: 0.3212\n",
      "processing: 2100 images\n",
      "mIoU: 0.3239\n",
      "processing: 2200 images\n",
      "mIoU: 0.3250\n",
      "processing: 2300 images\n",
      "mIoU: 0.3649\n",
      "processing: 2400 images\n",
      "mIoU: 0.3799\n",
      "processing: 2500 images\n",
      "mIoU: 0.3843\n",
      "processing: 2600 images\n",
      "mIoU: 0.3867\n",
      "processing: 2700 images\n",
      "mIoU: 0.3892\n",
      "processing: 2800 images\n",
      "mIoU: 0.3913\n",
      "processing: 2900 images\n",
      "mIoU: 0.3936\n",
      "processing: 3000 images\n",
      "mIoU: 0.3953\n",
      "processing: 3100 images\n",
      "mIoU: 0.3972\n",
      "processing: 3200 images\n",
      "mIoU: 0.3995\n",
      "processing: 3300 images\n",
      "mIoU: 0.4011\n"
     ]
    }
   ],
   "source": [
    "root = \"/home/usl/Datasets/\"\n",
    "list_path = \"pt_test.lst\"\n",
    "num_class = 15\n",
    "img_list = [line.strip().split()[1] for line in open(root+\"/rellis/\"+list_path)]\n",
    "confusion_matrix = np.zeros((num_class,num_class)).astype(np.float64)\n",
    "for index, img_path in enumerate(img_list[:]):\n",
    "    label_path = os.path.join(root,\"rellis\",img_path)\n",
    "    pred_path = os.path.join(root,\"salsa\",img_path)\n",
    "    label = np.fromfile(label_path,dtype=np.int32)\n",
    "    label = label.reshape((-1,))\n",
    "    label = convert_label(label, label_mapping)\n",
    "    label_shape = label.shape\n",
    "    pred = np.fromfile(pred_path,dtype=np.int32)\n",
    "    pred = pred.reshape((-1,))\n",
    "    pred = convert_label(pred, label_mapping)\n",
    "    confusion_matrix =confusion_matrix + get_confusion_matrix(label,pred,label.shape,num_class,14)\n",
    "    if index % 100 == 0:\n",
    "        print('processing: %d images' % index)\n",
    "        pos = confusion_matrix.sum(1)\n",
    "        res = confusion_matrix.sum(0)\n",
    "        tp = np.diag(confusion_matrix)\n",
    "        IoU_array = (tp / np.maximum(1.0, pos + res - tp))\n",
    "        mean_IoU = IoU_array.mean()\n",
    "        print('mIoU: %.4f' % (mean_IoU))    "
   ]
  },
  {
   "cell_type": "code",
   "execution_count": 90,
   "metadata": {},
   "outputs": [
    {
     "name": "stdout",
     "output_type": "stream",
     "text": [
      " 64.74 & 79.04 & 72.90 & 75.27 & 9.58 & 83.17 & 23.20 & 5.01 & 75.89 & 18.76 & 16.13 & 23.12 & 56.26 & 0.00 & 0.00 &[0.64738218 0.79042349 0.72898169 0.7527398  0.09577922 0.83165025\n",
      " 0.23196699 0.05010921 0.75891187 0.18764614 0.16134766 0.23123991\n",
      " 0.56256161 0.         0.        ] 0.4020493339200974\n"
     ]
    },
    {
     "data": {
      "image/png": "[encoded data removed]",
      "text/plain": [
       "<Figure size 288x244.8 with 2 Axes>"
      ]
     },
     "metadata": {
      "needs_background": "light"
     },
     "output_type": "display_data"
    }
   ],
   "source": [
    "pos = confusion_matrix.sum(1)\n",
    "res = confusion_matrix.sum(0)\n",
    "tp = np.diag(confusion_matrix)\n",
    "IoU_array = (tp / np.maximum(1.0, pos + res - tp))\n",
    "mean_IoU = IoU_array.mean() \n",
    "for iou in IoU_array:\n",
    "    iou = iou*100\n",
    "    print(f\" {iou:4.2f} &\",end = '')\n",
    "print(IoU_array,mean_IoU)\n",
    "plot_confusion_matrix(confusion_matrix,classname_list,'salsa.svg')"
   ]
  },
  {
   "cell_type": "code",
   "execution_count": null,
   "metadata": {},
   "outputs": [],
   "source": []
  },
  {
   "cell_type": "code",
   "execution_count": 91,
   "metadata": {},
   "outputs": [
    {
     "name": "stdout",
     "output_type": "stream",
     "text": [
      "processing: 0 images\n",
      "mIoU: 0.0535\n",
      "processing: 100 images\n",
      "mIoU: 0.1908\n",
      "processing: 200 images\n",
      "mIoU: 0.1947\n",
      "processing: 300 images\n",
      "mIoU: 0.1985\n",
      "processing: 400 images\n",
      "mIoU: 0.1903\n",
      "processing: 500 images\n",
      "mIoU: 0.1899\n",
      "processing: 600 images\n",
      "mIoU: 0.1897\n",
      "processing: 700 images\n",
      "mIoU: 0.1834\n",
      "processing: 800 images\n",
      "mIoU: 0.1784\n",
      "processing: 900 images\n",
      "mIoU: 0.1790\n",
      "processing: 1000 images\n",
      "mIoU: 0.1771\n",
      "processing: 1100 images\n",
      "mIoU: 0.1738\n",
      "processing: 1200 images\n",
      "mIoU: 0.1714\n",
      "processing: 1300 images\n",
      "mIoU: 0.1701\n",
      "processing: 1400 images\n",
      "mIoU: 0.1696\n",
      "processing: 1500 images\n",
      "mIoU: 0.1712\n",
      "processing: 1600 images\n",
      "mIoU: 0.1721\n",
      "processing: 1700 images\n",
      "mIoU: 0.1725\n",
      "processing: 1800 images\n",
      "mIoU: 0.1738\n",
      "processing: 1900 images\n",
      "mIoU: 0.1764\n",
      "processing: 2000 images\n",
      "mIoU: 0.1779\n",
      "processing: 2100 images\n",
      "mIoU: 0.1802\n",
      "processing: 2200 images\n",
      "mIoU: 0.1812\n",
      "processing: 2300 images\n",
      "mIoU: 0.1804\n",
      "processing: 2400 images\n",
      "mIoU: 0.1796\n",
      "processing: 2500 images\n",
      "mIoU: 0.1786\n",
      "processing: 2600 images\n",
      "mIoU: 0.1789\n",
      "processing: 2700 images\n",
      "mIoU: 0.1807\n",
      "processing: 2800 images\n",
      "mIoU: 0.1823\n",
      "processing: 2900 images\n",
      "mIoU: 0.1834\n",
      "processing: 3000 images\n",
      "mIoU: 0.1841\n",
      "processing: 3100 images\n",
      "mIoU: 0.1851\n",
      "processing: 3200 images\n",
      "mIoU: 0.1861\n",
      "processing: 3300 images\n",
      "mIoU: 0.1863\n"
     ]
    }
   ],
   "source": [
    "root = \"/home/usl/Datasets/\"\n",
    "list_path = \"pt_test.lst\"\n",
    "num_class = 15\n",
    "img_list = [line.strip().split()[1] for line in open(root+\"/rellis/\"+list_path)]\n",
    "confusion_matrix = np.zeros((num_class,num_class)).astype(np.float64)\n",
    "for index, img_path in enumerate(img_list[:]):\n",
    "    label_path = os.path.join(root,\"rellis\",img_path)\n",
    "    pred_path = os.path.join(root,\"kpconv\",img_path)\n",
    "    label = np.fromfile(label_path,dtype=np.int32)\n",
    "    label = label.reshape((-1,))\n",
    "    label = convert_label(label, label_mapping)\n",
    "    label_shape = label.shape\n",
    "    pred = np.fromfile(pred_path,dtype=np.int32)\n",
    "    pred = pred.reshape((-1,))\n",
    "    pred = convert_label(pred, label_mapping)\n",
    "    confusion_matrix =confusion_matrix + get_confusion_matrix(label,pred,label.shape,num_class,14)\n",
    "    if index % 100 == 0:\n",
    "        print('processing: %d images' % index)\n",
    "        pos = confusion_matrix.sum(1)\n",
    "        res = confusion_matrix.sum(0)\n",
    "        tp = np.diag(confusion_matrix)\n",
    "        IoU_array = (tp / np.maximum(1.0, pos + res - tp))\n",
    "        mean_IoU = IoU_array.mean()\n",
    "        print('mIoU: %.4f' % (mean_IoU))    "
   ]
  },
  {
   "cell_type": "code",
   "execution_count": 92,
   "metadata": {},
   "outputs": [
    {
     "name": "stdout",
     "output_type": "stream",
     "text": [
      " 56.41 & 49.25 & 58.45 & 33.91 & 0.00 & 81.20 & 0.00 & 0.00 & 0.00 & 0.00 & 0.40 & 0.00 & 0.00 & 0.00 & 0.00 &[0.56406441 0.49251261 0.58450725 0.33911498 0.         0.81196698\n",
      " 0.         0.         0.         0.         0.00403    0.\n",
      " 0.         0.         0.        ] 0.18641308214126426\n"
     ]
    },
    {
     "data": {
      "image/png": "[encoded data removed]",
      "text/plain": [
       "<Figure size 288x244.8 with 2 Axes>"
      ]
     },
     "metadata": {
      "needs_background": "light"
     },
     "output_type": "display_data"
    }
   ],
   "source": [
    "pos = confusion_matrix.sum(1)\n",
    "res = confusion_matrix.sum(0)\n",
    "tp = np.diag(confusion_matrix)\n",
    "IoU_array = (tp / np.maximum(1.0, pos + res - tp))\n",
    "mean_IoU = IoU_array.mean()  \n",
    "for iou in IoU_array:\n",
    "    iou = iou*100\n",
    "    print(f\" {iou:4.2f} &\",end = '')\n",
    "print(IoU_array,mean_IoU)\n",
    "plot_confusion_matrix(confusion_matrix,classname_list,'kpconv.svg')"
   ]
  },
  {
   "cell_type": "code",
   "execution_count": null,
   "metadata": {},
   "outputs": [],
   "source": []
  },
  {
   "cell_type": "code",
   "execution_count": null,
   "metadata": {},
   "outputs": [],
   "source": []
  }
 ],
 "metadata": {
  "kernelspec": {
   "display_name": "Python 3",
   "language": "python",
   "name": "python3"
  },
  "language_info": {
   "codemirror_mode": {
    "name": "ipython",
    "version": 3
   },
   "file_extension": ".py",
   "mimetype": "text/x-python",
   "name": "python",
   "nbconvert_exporter": "python",
   "pygments_lexer": "ipython3",
   "version": "3.6.10"
  }
 },
 "nbformat": 4,
 "nbformat_minor": 4
}
